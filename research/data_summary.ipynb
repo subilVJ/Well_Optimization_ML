{
 "cells": [
  {
   "cell_type": "code",
   "execution_count": 4,
   "id": "95d5708f",
   "metadata": {},
   "outputs": [],
   "source": [
    "df=pd.read_csv('well_data_standard.csv')"
   ]
  },
  {
   "cell_type": "code",
   "execution_count": 3,
   "id": "cd5c8295",
   "metadata": {},
   "outputs": [],
   "source": [
    "import os\n",
    "import pandas as pd"
   ]
  },
  {
   "cell_type": "code",
   "execution_count": 8,
   "id": "75039391",
   "metadata": {},
   "outputs": [],
   "source": [
    "def generate_data_summary( df):\n",
    "        \"\"\"\n",
    "        Generate and display summary statistics for the dataset\n",
    "        \n",
    "        Parameters:\n",
    "        -----------\n",
    "        df : pandas.DataFrame\n",
    "            Generated dataset\n",
    "        filename : str\n",
    "            Output filename\n",
    "        \"\"\"\n",
    "        print(f\"\\n{'='*30}\")\n",
    "        print(\"DATASET SUMMARY\")\n",
    "        print(f\"{'='*30}\")\n",
    "        \n",
    "        print(f\"Dataset shape: {df.shape}\")\n",
    "        ##print(f\"File size: {os.path.getsize(filename) / 1024:.1f} KB\")\n",
    "        \n",
    "        print(f\"\\nProduction Statistics:\")\n",
    "        print(f\"  Average oil rate: {df['oil_rate_bbl_day'].mean():.1f} bbl/day\")\n",
    "        print(f\"  Production range: {df['oil_rate_bbl_day'].min():.1f} - {df['oil_rate_bbl_day'].max():.1f} bbl/day\")\n",
    "        print(f\"  Average water cut: {df['water_cut_fraction'].mean():.1%}\")\n",
    "        \n",
    "        print(f\"\\nReservoir Statistics:\")\n",
    "        print(f\"  Permeability range: {df['permeability_md'].min():.1f} - {df['permeability_md'].max():.1f} mD\")\n",
    "        print(f\"  Average porosity: {df['porosity_fraction'].mean():.1%}\")\n",
    "        print(f\"  Depth range: {df['well_depth_ft'].min():.0f} - {df['well_depth_ft'].max():.0f} ft\")\n",
    "        \n",
    "        print(f\"\\nEconomic Statistics:\")\n",
    "        profitable_wells = len(df[df['daily_revenue_usd'] > 0])\n",
    "        print(f\"  Profitable wells: {profitable_wells} ({profitable_wells/len(df)*100:.1f}%)\")\n",
    "        print(f\"  Average daily revenue: ${df['daily_revenue_usd'].mean():.0f}\")\n",
    "        print(f\"  Average OPEX: ${df['daily_opex_usd'].mean():.0f}/day\")\n",
    "        \n",
    "        print(f\"\\nWell Type Distribution:\")\n",
    "        well_type_counts = df['well_type'].value_counts()\n",
    "        for well_type, count in well_type_counts.items():\n",
    "            print(f\"  {well_type}: {count} wells ({count/len(df)*100:.1f}%)\")\n",
    "        \n",
    "        print(f\"\\nArtificial Lift Distribution:\")\n",
    "        lift_counts = df['artificial_lift'].value_counts()\n",
    "        for lift_type, count in lift_counts.items():\n",
    "            print(f\"  {lift_type}: {count} wells ({count/len(df)*100:.1f}%)\")\n",
    "        \n",
    "        print(f\"\\nPerformance Metrics:\")\n",
    "        print(f\"  Average performance index: {df['performance_index'].mean():.1f}\")\n",
    "        print(f\"  Performance range: {df['performance_index'].min():.1f} - {df['performance_index'].max():.1f}\")\n",
    "        print(f\"  Average ranking score: {df['ranking_score'].mean():.1f}\")"
   ]
  },
  {
   "cell_type": "code",
   "execution_count": 9,
   "id": "73cda682",
   "metadata": {},
   "outputs": [
    {
     "name": "stdout",
     "output_type": "stream",
     "text": [
      "\n",
      "==============================\n",
      "DATASET SUMMARY\n",
      "==============================\n",
      "Dataset shape: (500, 45)\n",
      "\n",
      "Production Statistics:\n",
      "  Average oil rate: 7.4 bbl/day\n",
      "  Production range: 5.0 - 138.1 bbl/day\n",
      "  Average water cut: 18.4%\n",
      "\n",
      "Reservoir Statistics:\n",
      "  Permeability range: 0.3 - 348.2 mD\n",
      "  Average porosity: 15.2%\n",
      "  Depth range: 4000 - 11957 ft\n",
      "\n",
      "Economic Statistics:\n",
      "  Profitable wells: 365 (73.0%)\n",
      "  Average daily revenue: $203\n",
      "  Average OPEX: $354/day\n",
      "\n",
      "Well Type Distribution:\n",
      "  Horizontal: 239 wells (47.8%)\n",
      "  Vertical: 203 wells (40.6%)\n",
      "  Deviated: 58 wells (11.6%)\n",
      "\n",
      "Artificial Lift Distribution:\n",
      "  ESP: 162 wells (32.4%)\n",
      "  Natural Flow: 156 wells (31.2%)\n",
      "  Rod Pump: 120 wells (24.0%)\n",
      "  Gas Lift: 62 wells (12.4%)\n",
      "\n",
      "Performance Metrics:\n",
      "  Average performance index: 119.8\n",
      "  Performance range: 44.4 - 1161.0\n",
      "  Average ranking score: 27.9\n"
     ]
    }
   ],
   "source": [
    "generate_data_summary(df)"
   ]
  },
  {
   "cell_type": "code",
   "execution_count": null,
   "id": "11d1318a",
   "metadata": {},
   "outputs": [],
   "source": []
  }
 ],
 "metadata": {
  "kernelspec": {
   "display_name": "mlproject311",
   "language": "python",
   "name": "python3"
  },
  "language_info": {
   "codemirror_mode": {
    "name": "ipython",
    "version": 3
   },
   "file_extension": ".py",
   "mimetype": "text/x-python",
   "name": "python",
   "nbconvert_exporter": "python",
   "pygments_lexer": "ipython3",
   "version": "3.11.14"
  }
 },
 "nbformat": 4,
 "nbformat_minor": 5
}
